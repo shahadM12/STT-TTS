{
 "cells": [
  {
   "cell_type": "code",
   "execution_count": 1,
   "id": "muslim-ethics",
   "metadata": {},
   "outputs": [
    {
     "output_type": "stream",
     "name": "stdout",
     "text": [
      "Requirement already satisfied: ibm_watson in c:\\users\\shaha\\appdata\\local\\programs\\python\\python39\\lib\\site-packages (5.2.2)\nRequirement already satisfied: ibm-cloud-sdk-core==3.*,>=3.3.6 in c:\\users\\shaha\\appdata\\local\\programs\\python\\python39\\lib\\site-packages (from ibm_watson) (3.10.0)\nRequirement already satisfied: requests<3.0,>=2.0 in c:\\users\\shaha\\appdata\\local\\programs\\python\\python39\\lib\\site-packages (from ibm_watson) (2.25.1)\nRequirement already satisfied: websocket-client==1.1.0 in c:\\users\\shaha\\appdata\\local\\programs\\python\\python39\\lib\\site-packages (from ibm_watson) (1.1.0)\nRequirement already satisfied: python-dateutil>=2.5.3 in c:\\users\\shaha\\appdata\\roaming\\python\\python39\\site-packages (from ibm_watson) (2.8.1)\nRequirement already satisfied: PyJWT<3.0.0,>=2.0.1 in c:\\users\\shaha\\appdata\\local\\programs\\python\\python39\\lib\\site-packages (from ibm-cloud-sdk-core==3.*,>=3.3.6->ibm_watson) (2.1.0)\nRequirement already satisfied: six>=1.5 in c:\\users\\shaha\\appdata\\roaming\\python\\python39\\site-packages (from python-dateutil>=2.5.3->ibm_watson) (1.16.0)\nRequirement already satisfied: urllib3<1.27,>=1.21.1 in c:\\users\\shaha\\appdata\\local\\programs\\python\\python39\\lib\\site-packages (from requests<3.0,>=2.0->ibm_watson) (1.26.6)\nRequirement already satisfied: idna<3,>=2.5 in c:\\users\\shaha\\appdata\\local\\programs\\python\\python39\\lib\\site-packages (from requests<3.0,>=2.0->ibm_watson) (2.10)\nRequirement already satisfied: chardet<5,>=3.0.2 in c:\\users\\shaha\\appdata\\local\\programs\\python\\python39\\lib\\site-packages (from requests<3.0,>=2.0->ibm_watson) (4.0.0)\nRequirement already satisfied: certifi>=2017.4.17 in c:\\users\\shaha\\appdata\\local\\programs\\python\\python39\\lib\\site-packages (from requests<3.0,>=2.0->ibm_watson) (2021.5.30)\nNote: you may need to restart the kernel to use updated packages.\n"
     ]
    }
   ],
   "source": [
    "pip install ibm_watson"
   ]
  },
  {
   "cell_type": "code",
   "execution_count": 2,
   "metadata": {},
   "outputs": [
    {
     "output_type": "stream",
     "name": "stdout",
     "text": [
      "Requirement already satisfied: ibm_cloud_sdk_core in c:\\users\\shaha\\appdata\\local\\programs\\python\\python39\\lib\\site-packages (3.10.0)\nRequirement already satisfied: requests<3.0,>=2.20 in c:\\users\\shaha\\appdata\\local\\programs\\python\\python39\\lib\\site-packages (from ibm_cloud_sdk_core) (2.25.1)\nRequirement already satisfied: python_dateutil<3.0.0,>=2.5.3 in c:\\users\\shaha\\appdata\\roaming\\python\\python39\\site-packages (from ibm_cloud_sdk_core) (2.8.1)\nRequirement already satisfied: PyJWT<3.0.0,>=2.0.1 in c:\\users\\shaha\\appdata\\local\\programs\\python\\python39\\lib\\site-packages (from ibm_cloud_sdk_core) (2.1.0)\nRequirement already satisfied: six>=1.5 in c:\\users\\shaha\\appdata\\roaming\\python\\python39\\site-packages (from python_dateutil<3.0.0,>=2.5.3->ibm_cloud_sdk_core) (1.16.0)\nRequirement already satisfied: chardet<5,>=3.0.2 in c:\\users\\shaha\\appdata\\local\\programs\\python\\python39\\lib\\site-packages (from requests<3.0,>=2.20->ibm_cloud_sdk_core) (4.0.0)\nRequirement already satisfied: idna<3,>=2.5 in c:\\users\\shaha\\appdata\\local\\programs\\python\\python39\\lib\\site-packages (from requests<3.0,>=2.20->ibm_cloud_sdk_core) (2.10)\nRequirement already satisfied: certifi>=2017.4.17 in c:\\users\\shaha\\appdata\\local\\programs\\python\\python39\\lib\\site-packages (from requests<3.0,>=2.20->ibm_cloud_sdk_core) (2021.5.30)\nRequirement already satisfied: urllib3<1.27,>=1.21.1 in c:\\users\\shaha\\appdata\\local\\programs\\python\\python39\\lib\\site-packages (from requests<3.0,>=2.20->ibm_cloud_sdk_core) (1.26.6)\nNote: you may need to restart the kernel to use updated packages.\n"
     ]
    }
   ],
   "source": [
    "pip install ibm_cloud_sdk_core"
   ]
  },
  {
   "cell_type": "code",
   "execution_count": 7,
   "metadata": {},
   "outputs": [],
   "source": [
    "from ibm_watson import SpeechToTextV1"
   ]
  },
  {
   "cell_type": "code",
   "execution_count": 8,
   "metadata": {},
   "outputs": [],
   "source": [
    "from ibm_cloud_sdk_core.authenticators import IAMAuthenticator"
   ]
  },
  {
   "cell_type": "code",
   "execution_count": 9,
   "metadata": {},
   "outputs": [],
   "source": [
    "api = IAMAuthenticator(\"rN3isoRw73mOoJQ30Wm80z-DyiSLBGPzsK7RENvd5-QC\")"
   ]
  },
  {
   "cell_type": "code",
   "execution_count": 10,
   "metadata": {},
   "outputs": [],
   "source": [
    "speech = SpeechToTextV1(authenticator=api)"
   ]
  },
  {
   "cell_type": "code",
   "execution_count": 11,
   "metadata": {},
   "outputs": [],
   "source": [
    "speech.set_service_url(\"https://api.us-south.speech-to-text.watson.cloud.ibm.com/instances/46987f28-5c1d-4913-8b89-f97ea0087d0d\")"
   ]
  },
  {
   "cell_type": "code",
   "execution_count": 12,
   "metadata": {},
   "outputs": [],
   "source": [
    "with open(\"wo.mp3\",\"rb\") as audio_file:\n",
    "    result = speech.recognize(\n",
    "    audio=audio_file,content_type=\"audio/mp3\"    \n",
    "    ).get_result()"
   ]
  },
  {
   "cell_type": "code",
   "execution_count": 27,
   "metadata": {},
   "outputs": [
    {
     "output_type": "execute_result",
     "data": {
      "text/plain": [
       "{'result_index': 0,\n",
       " 'results': [{'final': True,\n",
       "   'alternatives': [{'transcript': \"at first a woman will treat you the way she wants to be treated and then she'll start treating you the way you treat her \",\n",
       "     'confidence': 0.9}]}]}"
      ]
     },
     "metadata": {},
     "execution_count": 27
    }
   ],
   "source": [
    "result"
   ]
  },
  {
   "cell_type": "code",
   "execution_count": 29,
   "metadata": {},
   "outputs": [
    {
     "output_type": "execute_result",
     "data": {
      "text/plain": [
       "\"at first a woman will treat you the way she wants to be treated and then she'll start treating you the way you treat her \""
      ]
     },
     "metadata": {},
     "execution_count": 29
    }
   ],
   "source": [
    "text = result['results'][0]['alternatives'][0]['transcript']\n",
    "text"
   ]
  },
  {
   "cell_type": "code",
   "execution_count": 30,
   "metadata": {},
   "outputs": [],
   "source": [
    "with open('output.txt', 'w') as out:\n",
    "    out.writelines(text)"
   ]
  },
  {
   "cell_type": "code",
   "execution_count": null,
   "metadata": {},
   "outputs": [],
   "source": []
  }
 ],
 "metadata": {
  "kernelspec": {
   "name": "python3",
   "display_name": "Python 3.9.6 64-bit"
  },
  "language_info": {
   "codemirror_mode": {
    "name": "ipython",
    "version": 3
   },
   "file_extension": ".py",
   "mimetype": "text/x-python",
   "name": "python",
   "nbconvert_exporter": "python",
   "pygments_lexer": "ipython3",
   "version": "3.9.6"
  },
  "interpreter": {
   "hash": "ddd6420657e49914c42e748ed7279668e8f9fe3f51acecccec25cb8434799fc9"
  }
 },
 "nbformat": 4,
 "nbformat_minor": 5
}